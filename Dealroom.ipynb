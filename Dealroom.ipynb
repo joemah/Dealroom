{
 "cells": [
  {
   "cell_type": "code",
   "execution_count": 1,
   "metadata": {},
   "outputs": [],
   "source": [
    "import numpy as np \n",
    "import pandas as pd \n",
    "import matplotlib.pyplot as plt \n",
    "import itertools\n",
    "from collections import defaultdict"
   ]
  },
  {
   "cell_type": "code",
   "execution_count": 2,
   "metadata": {},
   "outputs": [],
   "source": [
    "## my functions\n",
    "from droom import chech_for_nan,check_for_duplicates,get_duplicates_indexes,get_all"
   ]
  },
  {
   "cell_type": "code",
   "execution_count": 3,
   "metadata": {},
   "outputs": [],
   "source": [
    "pd.set_option('display.max_columns', None)\n",
    "pd.set_option('display.max_rows', None)"
   ]
  },
  {
   "cell_type": "code",
   "execution_count": 4,
   "metadata": {},
   "outputs": [],
   "source": [
    "deal_data = pd.read_csv('data_scientist_duplicate_detection.csv')"
   ]
  },
  {
   "cell_type": "code",
   "execution_count": 5,
   "metadata": {},
   "outputs": [
    {
     "data": {
      "text/plain": [
       "(15899, 13)"
      ]
     },
     "execution_count": 5,
     "metadata": {},
     "output_type": "execute_result"
    }
   ],
   "source": [
    "deal_data.shape"
   ]
  },
  {
   "cell_type": "code",
   "execution_count": 6,
   "metadata": {
    "scrolled": false
   },
   "outputs": [
    {
     "data": {
      "text/html": [
       "<div>\n",
       "<style scoped>\n",
       "    .dataframe tbody tr th:only-of-type {\n",
       "        vertical-align: middle;\n",
       "    }\n",
       "\n",
       "    .dataframe tbody tr th {\n",
       "        vertical-align: top;\n",
       "    }\n",
       "\n",
       "    .dataframe thead th {\n",
       "        text-align: right;\n",
       "    }\n",
       "</style>\n",
       "<table border=\"1\" class=\"dataframe\">\n",
       "  <thead>\n",
       "    <tr style=\"text-align: right;\">\n",
       "      <th></th>\n",
       "      <th>id</th>\n",
       "      <th>name</th>\n",
       "      <th>tagline</th>\n",
       "      <th>industry</th>\n",
       "      <th>industry_2</th>\n",
       "      <th>type</th>\n",
       "      <th>address</th>\n",
       "      <th>street</th>\n",
       "      <th>street_number</th>\n",
       "      <th>zip</th>\n",
       "      <th>country</th>\n",
       "      <th>city</th>\n",
       "      <th>sectors</th>\n",
       "    </tr>\n",
       "  </thead>\n",
       "  <tbody>\n",
       "    <tr>\n",
       "      <th>15897</th>\n",
       "      <td>1435346</td>\n",
       "      <td>Horosh</td>\n",
       "      <td>NaN</td>\n",
       "      <td>Health</td>\n",
       "      <td>Dating</td>\n",
       "      <td>2</td>\n",
       "      <td>Princeton Mews, 167 169 London Rd, Kingston up...</td>\n",
       "      <td>NaN</td>\n",
       "      <td>NaN</td>\n",
       "      <td>NaN</td>\n",
       "      <td>NaN</td>\n",
       "      <td>NaN</td>\n",
       "      <td>NaN</td>\n",
       "    </tr>\n",
       "    <tr>\n",
       "      <th>15898</th>\n",
       "      <td>1366367</td>\n",
       "      <td>Photon</td>\n",
       "      <td>Photon</td>\n",
       "      <td>Education</td>\n",
       "      <td>Kids</td>\n",
       "      <td>2</td>\n",
       "      <td>Poland</td>\n",
       "      <td>NaN</td>\n",
       "      <td>NaN</td>\n",
       "      <td>NaN</td>\n",
       "      <td>NaN</td>\n",
       "      <td>NaN</td>\n",
       "      <td>NaN</td>\n",
       "    </tr>\n",
       "  </tbody>\n",
       "</table>\n",
       "</div>"
      ],
      "text/plain": [
       "            id    name tagline   industry industry_2  type  \\\n",
       "15897  1435346  Horosh     NaN     Health     Dating     2   \n",
       "15898  1366367  Photon  Photon  Education       Kids     2   \n",
       "\n",
       "                                                 address street street_number  \\\n",
       "15897  Princeton Mews, 167 169 London Rd, Kingston up...    NaN           NaN   \n",
       "15898                                             Poland    NaN           NaN   \n",
       "\n",
       "       zip country city sectors  \n",
       "15897  NaN     NaN  NaN     NaN  \n",
       "15898  NaN     NaN  NaN     NaN  "
      ]
     },
     "execution_count": 6,
     "metadata": {},
     "output_type": "execute_result"
    }
   ],
   "source": [
    "deal_data.tail(2)"
   ]
  },
  {
   "cell_type": "markdown",
   "metadata": {},
   "source": [
    "## Some comments on the Features\n",
    " * The city has some  so  not important cause the NaN can be replaced by Unknown, holds also for the country\n",
    " * particulary because both city  and country  are included in the address, also the adress\n",
    " * does not  contain steet name, number, zip for some countries or cities like for exmple \n",
    " * United states, New York and we can't guess or do imputation here"
   ]
  },
  {
   "cell_type": "code",
   "execution_count": 7,
   "metadata": {},
   "outputs": [
    {
     "name": "stdout",
     "output_type": "stream",
     "text": [
      "There are NaN values in the dataset\n",
      "\n",
      "Check Indvidual columns:\n",
      "\n",
      "The column \"id\" is good\n",
      "The column \"name\" is good\n",
      "The column \"tagline\" has some NaN values\n",
      "The column \"industry\" has some NaN values\n",
      "The column \"industry_2\" has some NaN values\n",
      "The column \"type\" is good\n",
      "The column \"address\" is good\n",
      "The column \"street\" has some NaN values\n",
      "The column \"street_number\" has some NaN values\n",
      "The column \"zip\" has some NaN values\n",
      "The column \"country\" has some NaN values\n",
      "The column \"city\" has some NaN values\n",
      "The column \"sectors\" has some NaN values\n"
     ]
    }
   ],
   "source": [
    "chech_for_nan(deal_data)"
   ]
  },
  {
   "cell_type": "markdown",
   "metadata": {},
   "source": [
    "As can be seen some columns are ok like the [id, name, type, address] which gives us some indications about the most import features. However, considering that here we are dealing with a supply chain problem therefore, apart from the id, name and the address of the distributing company, the street, street number as well as the zip code is of paramount considering the fact that in some cases they are not incuded in the address."
   ]
  },
  {
   "cell_type": "code",
   "execution_count": 8,
   "metadata": {},
   "outputs": [],
   "source": [
    "data=deal_data[deal_data['city'].isnull()]"
   ]
  },
  {
   "cell_type": "code",
   "execution_count": 9,
   "metadata": {},
   "outputs": [
    {
     "data": {
      "text/html": [
       "<div>\n",
       "<style scoped>\n",
       "    .dataframe tbody tr th:only-of-type {\n",
       "        vertical-align: middle;\n",
       "    }\n",
       "\n",
       "    .dataframe tbody tr th {\n",
       "        vertical-align: top;\n",
       "    }\n",
       "\n",
       "    .dataframe thead th {\n",
       "        text-align: right;\n",
       "    }\n",
       "</style>\n",
       "<table border=\"1\" class=\"dataframe\">\n",
       "  <thead>\n",
       "    <tr style=\"text-align: right;\">\n",
       "      <th></th>\n",
       "      <th>id</th>\n",
       "      <th>name</th>\n",
       "      <th>tagline</th>\n",
       "      <th>industry</th>\n",
       "      <th>industry_2</th>\n",
       "      <th>type</th>\n",
       "      <th>address</th>\n",
       "      <th>street</th>\n",
       "      <th>street_number</th>\n",
       "      <th>zip</th>\n",
       "      <th>country</th>\n",
       "      <th>city</th>\n",
       "      <th>sectors</th>\n",
       "    </tr>\n",
       "  </thead>\n",
       "  <tbody>\n",
       "    <tr>\n",
       "      <th>15896</th>\n",
       "      <td>1344567</td>\n",
       "      <td>FlashhReal</td>\n",
       "      <td>Original augmented reality flash card app that...</td>\n",
       "      <td>Media</td>\n",
       "      <td>Kids</td>\n",
       "      <td>2</td>\n",
       "      <td>Colombia, Bogota, D.C.</td>\n",
       "      <td>NaN</td>\n",
       "      <td>NaN</td>\n",
       "      <td>NaN</td>\n",
       "      <td>NaN</td>\n",
       "      <td>NaN</td>\n",
       "      <td>NaN</td>\n",
       "    </tr>\n",
       "    <tr>\n",
       "      <th>15897</th>\n",
       "      <td>1435346</td>\n",
       "      <td>Horosh</td>\n",
       "      <td>NaN</td>\n",
       "      <td>Health</td>\n",
       "      <td>Dating</td>\n",
       "      <td>2</td>\n",
       "      <td>Princeton Mews, 167 169 London Rd, Kingston up...</td>\n",
       "      <td>NaN</td>\n",
       "      <td>NaN</td>\n",
       "      <td>NaN</td>\n",
       "      <td>NaN</td>\n",
       "      <td>NaN</td>\n",
       "      <td>NaN</td>\n",
       "    </tr>\n",
       "    <tr>\n",
       "      <th>15898</th>\n",
       "      <td>1366367</td>\n",
       "      <td>Photon</td>\n",
       "      <td>Photon</td>\n",
       "      <td>Education</td>\n",
       "      <td>Kids</td>\n",
       "      <td>2</td>\n",
       "      <td>Poland</td>\n",
       "      <td>NaN</td>\n",
       "      <td>NaN</td>\n",
       "      <td>NaN</td>\n",
       "      <td>NaN</td>\n",
       "      <td>NaN</td>\n",
       "      <td>NaN</td>\n",
       "    </tr>\n",
       "  </tbody>\n",
       "</table>\n",
       "</div>"
      ],
      "text/plain": [
       "            id        name                                            tagline  \\\n",
       "15896  1344567  FlashhReal  Original augmented reality flash card app that...   \n",
       "15897  1435346      Horosh                                                NaN   \n",
       "15898  1366367      Photon                                             Photon   \n",
       "\n",
       "        industry industry_2  type  \\\n",
       "15896      Media       Kids     2   \n",
       "15897     Health     Dating     2   \n",
       "15898  Education       Kids     2   \n",
       "\n",
       "                                                 address street street_number  \\\n",
       "15896                             Colombia, Bogota, D.C.    NaN           NaN   \n",
       "15897  Princeton Mews, 167 169 London Rd, Kingston up...    NaN           NaN   \n",
       "15898                                             Poland    NaN           NaN   \n",
       "\n",
       "       zip country city sectors  \n",
       "15896  NaN     NaN  NaN     NaN  \n",
       "15897  NaN     NaN  NaN     NaN  \n",
       "15898  NaN     NaN  NaN     NaN  "
      ]
     },
     "execution_count": 9,
     "metadata": {},
     "output_type": "execute_result"
    }
   ],
   "source": [
    "data#['address']"
   ]
  },
  {
   "cell_type": "code",
   "execution_count": 10,
   "metadata": {},
   "outputs": [
    {
     "data": {
      "text/html": [
       "<div>\n",
       "<style scoped>\n",
       "    .dataframe tbody tr th:only-of-type {\n",
       "        vertical-align: middle;\n",
       "    }\n",
       "\n",
       "    .dataframe tbody tr th {\n",
       "        vertical-align: top;\n",
       "    }\n",
       "\n",
       "    .dataframe thead th {\n",
       "        text-align: right;\n",
       "    }\n",
       "</style>\n",
       "<table border=\"1\" class=\"dataframe\">\n",
       "  <thead>\n",
       "    <tr style=\"text-align: right;\">\n",
       "      <th></th>\n",
       "      <th>id</th>\n",
       "      <th>name</th>\n",
       "      <th>tagline</th>\n",
       "      <th>industry</th>\n",
       "      <th>industry_2</th>\n",
       "      <th>type</th>\n",
       "      <th>address</th>\n",
       "      <th>street</th>\n",
       "      <th>street_number</th>\n",
       "      <th>zip</th>\n",
       "      <th>country</th>\n",
       "      <th>city</th>\n",
       "      <th>sectors</th>\n",
       "    </tr>\n",
       "  </thead>\n",
       "  <tbody>\n",
       "    <tr>\n",
       "      <th>72</th>\n",
       "      <td>2944774</td>\n",
       "      <td>Photon</td>\n",
       "      <td>NaN</td>\n",
       "      <td>Kids</td>\n",
       "      <td>Education</td>\n",
       "      <td>2</td>\n",
       "      <td>Bialystok, Woj. Podlaskie, Poland</td>\n",
       "      <td>NaN</td>\n",
       "      <td>NaN</td>\n",
       "      <td>15-007</td>\n",
       "      <td>Poland</td>\n",
       "      <td>Bialystok</td>\n",
       "      <td>NaN</td>\n",
       "    </tr>\n",
       "    <tr>\n",
       "      <th>15898</th>\n",
       "      <td>1366367</td>\n",
       "      <td>Photon</td>\n",
       "      <td>Photon</td>\n",
       "      <td>Education</td>\n",
       "      <td>Kids</td>\n",
       "      <td>2</td>\n",
       "      <td>Poland</td>\n",
       "      <td>NaN</td>\n",
       "      <td>NaN</td>\n",
       "      <td>NaN</td>\n",
       "      <td>NaN</td>\n",
       "      <td>NaN</td>\n",
       "      <td>NaN</td>\n",
       "    </tr>\n",
       "  </tbody>\n",
       "</table>\n",
       "</div>"
      ],
      "text/plain": [
       "            id    name tagline   industry industry_2  type  \\\n",
       "72     2944774  Photon     NaN       Kids  Education     2   \n",
       "15898  1366367  Photon  Photon  Education       Kids     2   \n",
       "\n",
       "                                 address street street_number     zip country  \\\n",
       "72     Bialystok, Woj. Podlaskie, Poland    NaN           NaN  15-007  Poland   \n",
       "15898                             Poland    NaN           NaN     NaN     NaN   \n",
       "\n",
       "            city sectors  \n",
       "72     Bialystok     NaN  \n",
       "15898        NaN     NaN  "
      ]
     },
     "execution_count": 10,
     "metadata": {},
     "output_type": "execute_result"
    }
   ],
   "source": [
    "deal_data[deal_data['name']=='Photon']"
   ]
  },
  {
   "cell_type": "markdown",
   "metadata": {},
   "source": [
    "As we can see that given that the city is Unknown, the address is known but it has some missing information for example, Poland, doesn't convey any message about where the company is located exactly. However, We know the name of the company and using that information, we can see that it appeared also in the dataset, but a company can have the same brand name within the same country or around the world, this also shows that the name cannot give us the full information needed, thus the address, the street, the streetnumber as well as the zip can help us identify where exactly the goods are coming from."
   ]
  },
  {
   "cell_type": "markdown",
   "metadata": {},
   "source": [
    "#### check for duplicates whole dataset and some individual columns"
   ]
  },
  {
   "cell_type": "code",
   "execution_count": 11,
   "metadata": {},
   "outputs": [
    {
     "name": "stdout",
     "output_type": "stream",
     "text": [
      "There are duplicate rows in the dataset\n",
      "\n",
      "Check Indvidual columns:\n",
      "\n",
      "Column \"id\" has some duplicates\n",
      "Column \"name\" has some duplicates\n",
      "Column \"tagline\" has some duplicates\n",
      "Column \"industry\" has some duplicates\n",
      "Column \"industry_2\" has some duplicates\n",
      "Column \"type\" has some duplicates\n",
      "Column \"address\" has some duplicates\n",
      "Column \"street\" has some duplicates\n",
      "Column \"street_number\" has some duplicates\n",
      "Column \"zip\" has some duplicates\n",
      "Column \"country\" has some duplicates\n",
      "Column \"city\" has some duplicates\n",
      "Column \"sectors\" has some duplicates\n"
     ]
    }
   ],
   "source": [
    "check_for_duplicates(deal_data)"
   ]
  },
  {
   "cell_type": "markdown",
   "metadata": {},
   "source": [
    "#### # if the id was the only important feature here then  only one dublicate would be on this dataset"
   ]
  },
  {
   "cell_type": "code",
   "execution_count": 12,
   "metadata": {
    "scrolled": true
   },
   "outputs": [
    {
     "data": {
      "text/html": [
       "<div>\n",
       "<style scoped>\n",
       "    .dataframe tbody tr th:only-of-type {\n",
       "        vertical-align: middle;\n",
       "    }\n",
       "\n",
       "    .dataframe tbody tr th {\n",
       "        vertical-align: top;\n",
       "    }\n",
       "\n",
       "    .dataframe thead th {\n",
       "        text-align: right;\n",
       "    }\n",
       "</style>\n",
       "<table border=\"1\" class=\"dataframe\">\n",
       "  <thead>\n",
       "    <tr style=\"text-align: right;\">\n",
       "      <th></th>\n",
       "      <th>id</th>\n",
       "      <th>name</th>\n",
       "      <th>tagline</th>\n",
       "      <th>industry</th>\n",
       "      <th>industry_2</th>\n",
       "      <th>type</th>\n",
       "      <th>address</th>\n",
       "      <th>street</th>\n",
       "      <th>street_number</th>\n",
       "      <th>zip</th>\n",
       "      <th>country</th>\n",
       "      <th>city</th>\n",
       "      <th>sectors</th>\n",
       "    </tr>\n",
       "  </thead>\n",
       "  <tbody>\n",
       "    <tr>\n",
       "      <th>654</th>\n",
       "      <td>867000</td>\n",
       "      <td>Swarovski Group</td>\n",
       "      <td>Homepage - Swarovski Group</td>\n",
       "      <td>NaN</td>\n",
       "      <td>NaN</td>\n",
       "      <td>4</td>\n",
       "      <td>Switzerland, Männedorf, Alte Landstrasse, 411</td>\n",
       "      <td>Alte Landstrasse</td>\n",
       "      <td>411</td>\n",
       "      <td>8708</td>\n",
       "      <td>Switzerland</td>\n",
       "      <td>Männedorf</td>\n",
       "      <td>NaN</td>\n",
       "    </tr>\n",
       "    <tr>\n",
       "      <th>655</th>\n",
       "      <td>867000</td>\n",
       "      <td>Swarovski Group</td>\n",
       "      <td>Homepage - Swarovski Group</td>\n",
       "      <td>NaN</td>\n",
       "      <td>NaN</td>\n",
       "      <td>4</td>\n",
       "      <td>Switzerland, Männedorf, Alte Landstrasse, 411</td>\n",
       "      <td>Alte Landstrasse</td>\n",
       "      <td>411</td>\n",
       "      <td>8708</td>\n",
       "      <td>Switzerland</td>\n",
       "      <td>Männedorf</td>\n",
       "      <td>NaN</td>\n",
       "    </tr>\n",
       "  </tbody>\n",
       "</table>\n",
       "</div>"
      ],
      "text/plain": [
       "         id             name                     tagline industry industry_2  \\\n",
       "654  867000  Swarovski Group  Homepage - Swarovski Group      NaN        NaN   \n",
       "655  867000  Swarovski Group  Homepage - Swarovski Group      NaN        NaN   \n",
       "\n",
       "     type                                        address            street  \\\n",
       "654     4  Switzerland, Männedorf, Alte Landstrasse, 411  Alte Landstrasse   \n",
       "655     4  Switzerland, Männedorf, Alte Landstrasse, 411  Alte Landstrasse   \n",
       "\n",
       "    street_number   zip      country       city sectors  \n",
       "654           411  8708  Switzerland  Männedorf     NaN  \n",
       "655           411  8708  Switzerland  Männedorf     NaN  "
      ]
     },
     "execution_count": 12,
     "metadata": {},
     "output_type": "execute_result"
    }
   ],
   "source": [
    "deal_data.loc[deal_data['id']==867000] \n",
    "#deal_data[deal_data['id'].duplicated()].shape"
   ]
  },
  {
   "cell_type": "code",
   "execution_count": 13,
   "metadata": {},
   "outputs": [],
   "source": [
    "#deal_data['zip'].unique()"
   ]
  },
  {
   "cell_type": "markdown",
   "metadata": {},
   "source": [
    "given that the 'id' is duplicated, the industries as well as the sectors are not known, showing that these features are not really important here also one can easily identify the type of industry as well as the sector by just looking at the goods. So, apart from the id, name, address, we also need the street, the street number as wel as the zip code. Moreover, the tagline plays a vital role since it contains probably a brief description of the goods so one can guess the industry as well as the sector. Given the address, one can also identify both the country and the city if included otherwise a zip code would be useful. "
   ]
  },
  {
   "cell_type": "markdown",
   "metadata": {},
   "source": [
    "###  select data when specific columns have null values"
   ]
  },
  {
   "cell_type": "code",
   "execution_count": 14,
   "metadata": {},
   "outputs": [],
   "source": [
    "mask = deal_data['zip'].isnull() | deal_data['street_number'].isnull() | deal_data['street'].isnull() | deal_data['tagline'].isnull()"
   ]
  },
  {
   "cell_type": "code",
   "execution_count": 15,
   "metadata": {},
   "outputs": [],
   "source": [
    "mask2 = deal_data['industry'].isnull() | deal_data['industry_2'].isnull() | deal_data['sectors'].isnull() "
   ]
  },
  {
   "cell_type": "code",
   "execution_count": 16,
   "metadata": {},
   "outputs": [],
   "source": [
    "masg = mask | mask2"
   ]
  },
  {
   "cell_type": "code",
   "execution_count": 17,
   "metadata": {},
   "outputs": [],
   "source": [
    "data1 = deal_data[~masg]"
   ]
  },
  {
   "cell_type": "code",
   "execution_count": 18,
   "metadata": {},
   "outputs": [],
   "source": [
    " #| deal_data['sectors'].isnull() |  deal_data['city'].isnull() | "
   ]
  },
  {
   "cell_type": "code",
   "execution_count": 19,
   "metadata": {},
   "outputs": [
    {
     "data": {
      "text/plain": [
       "(418, 13)"
      ]
     },
     "execution_count": 19,
     "metadata": {},
     "output_type": "execute_result"
    }
   ],
   "source": [
    "data1.shape"
   ]
  },
  {
   "cell_type": "code",
   "execution_count": 20,
   "metadata": {},
   "outputs": [],
   "source": [
    "data2 = deal_data[masg]"
   ]
  },
  {
   "cell_type": "code",
   "execution_count": 21,
   "metadata": {},
   "outputs": [
    {
     "data": {
      "text/plain": [
       "True"
      ]
     },
     "execution_count": 21,
     "metadata": {},
     "output_type": "execute_result"
    }
   ],
   "source": [
    "deal_data.shape[0] == data1.shape[0] + data2.shape[0]"
   ]
  },
  {
   "cell_type": "code",
   "execution_count": 22,
   "metadata": {
    "scrolled": true
   },
   "outputs": [],
   "source": [
    "detect_duplicates = deal_data[~mask] # get the data where important features are known"
   ]
  },
  {
   "cell_type": "code",
   "execution_count": 23,
   "metadata": {},
   "outputs": [],
   "source": [
    "data_with_selected_nan = deal_data[mask] # get the data where important features are not known"
   ]
  },
  {
   "cell_type": "code",
   "execution_count": 24,
   "metadata": {},
   "outputs": [
    {
     "data": {
      "text/plain": [
       "True"
      ]
     },
     "execution_count": 24,
     "metadata": {},
     "output_type": "execute_result"
    }
   ],
   "source": [
    "deal_data.shape[0] == detect_duplicates.shape[0] + data_with_selected_nan.shape[0] # Check if math ok. 😊 Great! "
   ]
  },
  {
   "cell_type": "code",
   "execution_count": 25,
   "metadata": {},
   "outputs": [
    {
     "name": "stdout",
     "output_type": "stream",
     "text": [
      "The column 'id' doesn't have duplicates\n",
      "Column \"name\" has some duplicates\n",
      "Column \"tagline\" has some duplicates\n",
      "Column \"industry\" has some duplicates\n",
      "Column \"industry_2\" has some duplicates\n",
      "Column \"type\" has some duplicates\n",
      "Column \"address\" has some duplicates\n",
      "Column \"street\" has some duplicates\n",
      "Column \"street_number\" has some duplicates\n",
      "Column \"zip\" has some duplicates\n",
      "Column \"country\" has some duplicates\n",
      "Column \"city\" has some duplicates\n",
      "Column \"sectors\" has some duplicates\n"
     ]
    }
   ],
   "source": [
    "check_for_duplicates(data_with_selected_nan)"
   ]
  },
  {
   "cell_type": "code",
   "execution_count": 26,
   "metadata": {},
   "outputs": [
    {
     "name": "stdout",
     "output_type": "stream",
     "text": [
      "There are duplicate rows in the dataset\n",
      "\n",
      "Check Indvidual columns:\n",
      "\n",
      "Column \"id\" has some duplicates\n",
      "Column \"name\" has some duplicates\n",
      "Column \"tagline\" has some duplicates\n",
      "Column \"industry\" has some duplicates\n",
      "Column \"industry_2\" has some duplicates\n",
      "Column \"type\" has some duplicates\n",
      "Column \"address\" has some duplicates\n",
      "Column \"street\" has some duplicates\n",
      "Column \"street_number\" has some duplicates\n",
      "Column \"zip\" has some duplicates\n",
      "Column \"country\" has some duplicates\n",
      "Column \"city\" has some duplicates\n",
      "Column \"sectors\" has some duplicates\n"
     ]
    }
   ],
   "source": [
    "check_for_duplicates(detect_duplicates)"
   ]
  },
  {
   "cell_type": "markdown",
   "metadata": {},
   "source": [
    "however, if the tagline is unknown and the city  is known, the dataset is not duplicated anymore showing that this feature is very important. The same holds when the streets,street_number, as well as the zip. Therefore, these features could be usefull for duplicate detection. So data when these features contain some null  values can be left untouched and only  use the other set when these features are known. Also considering this sub set, the id does not have duplicates in here since a company or good or service can be identified based on it. "
   ]
  },
  {
   "cell_type": "markdown",
   "metadata": {},
   "source": [
    "Also combining the cases we can see that the data is duplicated when either the city, sectors, industries are known and the other important features are known, the id has no dublicates, therefore, the city, sectors and industries are not important to detecting duplicates therefore we will use the detect_duplicates subset"
   ]
  },
  {
   "cell_type": "markdown",
   "metadata": {},
   "source": [
    "## Analysis of subset data "
   ]
  },
  {
   "cell_type": "code",
   "execution_count": 27,
   "metadata": {},
   "outputs": [
    {
     "data": {
      "text/plain": [
       "True"
      ]
     },
     "execution_count": 27,
     "metadata": {},
     "output_type": "execute_result"
    }
   ],
   "source": [
    "detect_duplicates['id'].duplicated().any()"
   ]
  },
  {
   "cell_type": "markdown",
   "metadata": {},
   "source": [
    "### So to which features is the sub set data duplicated?"
   ]
  },
  {
   "cell_type": "markdown",
   "metadata": {},
   "source": [
    "However,even though a tagline can help to get what the goods contain, it doesn't really  provide the necessary information for supply  chain. Also can be seen that if tagline is unknown, the city is known which deems the unnecessity of the tagline"
   ]
  },
  {
   "cell_type": "code",
   "execution_count": 28,
   "metadata": {
    "scrolled": false
   },
   "outputs": [
    {
     "data": {
      "text/plain": [
       "{'value_counts': ({867000}, [2]), 'rows': [[99, 100]]}"
      ]
     },
     "execution_count": 28,
     "metadata": {},
     "output_type": "execute_result"
    }
   ],
   "source": [
    "get_duplicates_indexes(detect_duplicates,detect_duplicates.columns[0])#[0][-1][0]"
   ]
  },
  {
   "cell_type": "markdown",
   "metadata": {},
   "source": [
    "##### uncomment when running from the top"
   ]
  },
  {
   "cell_type": "code",
   "execution_count": 29,
   "metadata": {
    "scrolled": false
   },
   "outputs": [],
   "source": [
    "duplicated = get_all(detect_duplicates)"
   ]
  },
  {
   "cell_type": "code",
   "execution_count": 30,
   "metadata": {
    "scrolled": false
   },
   "outputs": [
    {
     "data": {
      "text/plain": [
       "[[1468, 1504],\n",
       " [654, 1538],\n",
       " [24, 1822],\n",
       " [373, 2067],\n",
       " [613, 817],\n",
       " [1239, 1329],\n",
       " [1453, 1884],\n",
       " [904, 1432],\n",
       " [1855, 1861],\n",
       " [176, 1958],\n",
       " [84, 395],\n",
       " [730, 1910],\n",
       " [1601, 1997],\n",
       " [2044, 2104],\n",
       " [1836, 1988],\n",
       " [1002, 1065],\n",
       " [568, 1595],\n",
       " [673, 1813],\n",
       " [166, 1763],\n",
       " [99, 100],\n",
       " [523, 1230]]"
      ]
     },
     "execution_count": 30,
     "metadata": {},
     "output_type": "execute_result"
    }
   ],
   "source": [
    "duplicated['name'][0]['rows']"
   ]
  },
  {
   "cell_type": "code",
   "execution_count": 31,
   "metadata": {
    "scrolled": false
   },
   "outputs": [],
   "source": [
    "#duplicated['tagline'][0]['rows'] # has NaN dublicated values so not important here"
   ]
  },
  {
   "cell_type": "code",
   "execution_count": 32,
   "metadata": {},
   "outputs": [],
   "source": [
    "setA = set(list(itertools.chain.from_iterable(duplicated['address'][0]['rows'])))\n",
    "setB = set(list(itertools.chain.from_iterable(duplicated['name'][0]['rows'])))\n",
    "#setC = set(list(itertools.chain.from_iterable(duplicated['street_number'][0]['rows'])))\n",
    "#setD = set(list(itertools.chain.from_iterable(duplicated['street'][0]['rows'])))\n",
    "##setE = set(list(itertools.chain.from_iterable(duplicated['zip'][0]['rows'])))\n",
    "setF = list(itertools.chain.from_iterable(duplicated['tagline'][0]['rows']))\n",
    "setG = list(itertools.chain.from_iterable(duplicated['type'][0]['rows']))\n",
    "#setH = set(list(itertools.chain.from_iterable(duplicated['industry'][0]['rows'])))\n",
    "#setI = set(list(itertools.chain.from_iterable(duplicated['industry_2'][0]['rows'])))\n",
    "#setJ = set(list(itertools.chain.from_iterable(duplicated['sectors'][0]['rows'])))\n",
    "#setK = list(itertools.chain.from_iterable(duplicated['country'][0]['rows']))\n",
    "#setL = list(itertools.chain.from_iterable(duplicated['city'][0]['rows']))\n",
    "setM = list(itertools.chain.from_iterable(duplicated['id'][0]['rows']))"
   ]
  },
  {
   "cell_type": "code",
   "execution_count": 33,
   "metadata": {},
   "outputs": [],
   "source": [
    "intersection = set.intersection(setA,\n",
    "                                setB,\n",
    "                                #setC,\n",
    "                                #setD,\n",
    "                                #setE,\n",
    "                                setF,\n",
    "                                setG,\n",
    "                                #setH,\n",
    "                                #setI,\n",
    "                                #setJ,\n",
    "                                #setK,\n",
    "                                #setL,\n",
    "                                setM\n",
    "                                )"
   ]
  },
  {
   "cell_type": "code",
   "execution_count": 34,
   "metadata": {},
   "outputs": [
    {
     "data": {
      "text/plain": [
       "('industry', 'industry_2', 'sectors', 'country', 'city')"
      ]
     },
     "execution_count": 34,
     "metadata": {},
     "output_type": "execute_result"
    }
   ],
   "source": [
    "'industry','industry_2','sectors','country','city'"
   ]
  },
  {
   "cell_type": "markdown",
   "metadata": {},
   "source": [
    "- By uncommenting the sets in order to find the point of intersection for all columns with duplicates, one can figure out which features contributed to the duplication. If we include inudustry_2 and sectors for example, there is no point of intersection at all. Including industry and the id features, one would would not find point of intesection. So the industry is not important. Repeating the procedure one would finally find the duplicated points which are a result of the ID;NAME;ADDRESS;TAGLINE and TYPE  "
   ]
  },
  {
   "cell_type": "markdown",
   "metadata": {},
   "source": [
    "### ***** The ID of the dublicated data is 867000 which appeared twice. ****"
   ]
  },
  {
   "cell_type": "code",
   "execution_count": 35,
   "metadata": {},
   "outputs": [
    {
     "data": {
      "text/plain": [
       "[{'value_counts': ({867000}, [2]), 'rows': [[99, 100]]}]"
      ]
     },
     "execution_count": 35,
     "metadata": {},
     "output_type": "execute_result"
    }
   ],
   "source": [
    "duplicated['id']#[0]['rows']"
   ]
  },
  {
   "cell_type": "code",
   "execution_count": 36,
   "metadata": {},
   "outputs": [
    {
     "data": {
      "text/plain": [
       "[99, 100]"
      ]
     },
     "execution_count": 36,
     "metadata": {},
     "output_type": "execute_result"
    }
   ],
   "source": [
    "list(intersection)"
   ]
  },
  {
   "cell_type": "code",
   "execution_count": 37,
   "metadata": {},
   "outputs": [
    {
     "data": {
      "text/html": [
       "<div>\n",
       "<style scoped>\n",
       "    .dataframe tbody tr th:only-of-type {\n",
       "        vertical-align: middle;\n",
       "    }\n",
       "\n",
       "    .dataframe tbody tr th {\n",
       "        vertical-align: top;\n",
       "    }\n",
       "\n",
       "    .dataframe thead th {\n",
       "        text-align: right;\n",
       "    }\n",
       "</style>\n",
       "<table border=\"1\" class=\"dataframe\">\n",
       "  <thead>\n",
       "    <tr style=\"text-align: right;\">\n",
       "      <th></th>\n",
       "      <th>id</th>\n",
       "      <th>name</th>\n",
       "      <th>tagline</th>\n",
       "      <th>industry</th>\n",
       "      <th>industry_2</th>\n",
       "      <th>type</th>\n",
       "      <th>address</th>\n",
       "      <th>street</th>\n",
       "      <th>street_number</th>\n",
       "      <th>zip</th>\n",
       "      <th>country</th>\n",
       "      <th>city</th>\n",
       "      <th>sectors</th>\n",
       "    </tr>\n",
       "  </thead>\n",
       "  <tbody>\n",
       "    <tr>\n",
       "      <th>654</th>\n",
       "      <td>867000</td>\n",
       "      <td>Swarovski Group</td>\n",
       "      <td>Homepage - Swarovski Group</td>\n",
       "      <td>NaN</td>\n",
       "      <td>NaN</td>\n",
       "      <td>4</td>\n",
       "      <td>Switzerland, Männedorf, Alte Landstrasse, 411</td>\n",
       "      <td>Alte Landstrasse</td>\n",
       "      <td>411</td>\n",
       "      <td>8708</td>\n",
       "      <td>Switzerland</td>\n",
       "      <td>Männedorf</td>\n",
       "      <td>NaN</td>\n",
       "    </tr>\n",
       "    <tr>\n",
       "      <th>655</th>\n",
       "      <td>867000</td>\n",
       "      <td>Swarovski Group</td>\n",
       "      <td>Homepage - Swarovski Group</td>\n",
       "      <td>NaN</td>\n",
       "      <td>NaN</td>\n",
       "      <td>4</td>\n",
       "      <td>Switzerland, Männedorf, Alte Landstrasse, 411</td>\n",
       "      <td>Alte Landstrasse</td>\n",
       "      <td>411</td>\n",
       "      <td>8708</td>\n",
       "      <td>Switzerland</td>\n",
       "      <td>Männedorf</td>\n",
       "      <td>NaN</td>\n",
       "    </tr>\n",
       "  </tbody>\n",
       "</table>\n",
       "</div>"
      ],
      "text/plain": [
       "         id             name                     tagline industry industry_2  \\\n",
       "654  867000  Swarovski Group  Homepage - Swarovski Group      NaN        NaN   \n",
       "655  867000  Swarovski Group  Homepage - Swarovski Group      NaN        NaN   \n",
       "\n",
       "     type                                        address            street  \\\n",
       "654     4  Switzerland, Männedorf, Alte Landstrasse, 411  Alte Landstrasse   \n",
       "655     4  Switzerland, Männedorf, Alte Landstrasse, 411  Alte Landstrasse   \n",
       "\n",
       "    street_number   zip      country       city sectors  \n",
       "654           411  8708  Switzerland  Männedorf     NaN  \n",
       "655           411  8708  Switzerland  Männedorf     NaN  "
      ]
     },
     "execution_count": 37,
     "metadata": {},
     "output_type": "execute_result"
    }
   ],
   "source": [
    "deal_data[deal_data['id']==867000]"
   ]
  },
  {
   "cell_type": "code",
   "execution_count": 38,
   "metadata": {},
   "outputs": [
    {
     "data": {
      "text/plain": [
       "13"
      ]
     },
     "execution_count": 38,
     "metadata": {},
     "output_type": "execute_result"
    }
   ],
   "source": [
    "len(list(duplicated.keys()))"
   ]
  },
  {
   "cell_type": "code",
   "execution_count": 39,
   "metadata": {},
   "outputs": [],
   "source": [
    "#list(duplicated.values())"
   ]
  },
  {
   "cell_type": "markdown",
   "metadata": {},
   "source": [
    "#### **** This result can also be found using pandas duplicated function."
   ]
  },
  {
   "cell_type": "code",
   "execution_count": 40,
   "metadata": {},
   "outputs": [
    {
     "data": {
      "text/html": [
       "<div>\n",
       "<style scoped>\n",
       "    .dataframe tbody tr th:only-of-type {\n",
       "        vertical-align: middle;\n",
       "    }\n",
       "\n",
       "    .dataframe tbody tr th {\n",
       "        vertical-align: top;\n",
       "    }\n",
       "\n",
       "    .dataframe thead th {\n",
       "        text-align: right;\n",
       "    }\n",
       "</style>\n",
       "<table border=\"1\" class=\"dataframe\">\n",
       "  <thead>\n",
       "    <tr style=\"text-align: right;\">\n",
       "      <th></th>\n",
       "      <th>id</th>\n",
       "      <th>name</th>\n",
       "      <th>tagline</th>\n",
       "      <th>industry</th>\n",
       "      <th>industry_2</th>\n",
       "      <th>type</th>\n",
       "      <th>address</th>\n",
       "      <th>street</th>\n",
       "      <th>street_number</th>\n",
       "      <th>zip</th>\n",
       "      <th>country</th>\n",
       "      <th>city</th>\n",
       "      <th>sectors</th>\n",
       "    </tr>\n",
       "  </thead>\n",
       "  <tbody>\n",
       "    <tr>\n",
       "      <th>654</th>\n",
       "      <td>867000</td>\n",
       "      <td>Swarovski Group</td>\n",
       "      <td>Homepage - Swarovski Group</td>\n",
       "      <td>NaN</td>\n",
       "      <td>NaN</td>\n",
       "      <td>4</td>\n",
       "      <td>Switzerland, Männedorf, Alte Landstrasse, 411</td>\n",
       "      <td>Alte Landstrasse</td>\n",
       "      <td>411</td>\n",
       "      <td>8708</td>\n",
       "      <td>Switzerland</td>\n",
       "      <td>Männedorf</td>\n",
       "      <td>NaN</td>\n",
       "    </tr>\n",
       "    <tr>\n",
       "      <th>655</th>\n",
       "      <td>867000</td>\n",
       "      <td>Swarovski Group</td>\n",
       "      <td>Homepage - Swarovski Group</td>\n",
       "      <td>NaN</td>\n",
       "      <td>NaN</td>\n",
       "      <td>4</td>\n",
       "      <td>Switzerland, Männedorf, Alte Landstrasse, 411</td>\n",
       "      <td>Alte Landstrasse</td>\n",
       "      <td>411</td>\n",
       "      <td>8708</td>\n",
       "      <td>Switzerland</td>\n",
       "      <td>Männedorf</td>\n",
       "      <td>NaN</td>\n",
       "    </tr>\n",
       "  </tbody>\n",
       "</table>\n",
       "</div>"
      ],
      "text/plain": [
       "         id             name                     tagline industry industry_2  \\\n",
       "654  867000  Swarovski Group  Homepage - Swarovski Group      NaN        NaN   \n",
       "655  867000  Swarovski Group  Homepage - Swarovski Group      NaN        NaN   \n",
       "\n",
       "     type                                        address            street  \\\n",
       "654     4  Switzerland, Männedorf, Alte Landstrasse, 411  Alte Landstrasse   \n",
       "655     4  Switzerland, Männedorf, Alte Landstrasse, 411  Alte Landstrasse   \n",
       "\n",
       "    street_number   zip      country       city sectors  \n",
       "654           411  8708  Switzerland  Männedorf     NaN  \n",
       "655           411  8708  Switzerland  Männedorf     NaN  "
      ]
     },
     "execution_count": 40,
     "metadata": {},
     "output_type": "execute_result"
    }
   ],
   "source": [
    "detect_duplicates.loc[detect_duplicates.duplicated(keep=False),:]"
   ]
  },
  {
   "cell_type": "markdown",
   "metadata": {},
   "source": [
    "#### Save the results to csv file"
   ]
  },
  {
   "cell_type": "code",
   "execution_count": 41,
   "metadata": {},
   "outputs": [],
   "source": [
    "final_data = deal_data[deal_data['id']==867000]"
   ]
  },
  {
   "cell_type": "code",
   "execution_count": 42,
   "metadata": {},
   "outputs": [],
   "source": [
    "final_data = final_data.drop(['city','country','sectors','industry_2',\n",
    "                              'industry','zip','street','street_number'],axis=1) "
   ]
  },
  {
   "cell_type": "code",
   "execution_count": 43,
   "metadata": {},
   "outputs": [],
   "source": [
    "final_data.to_csv('deal_room_intern_casestudy_dublicates.csv', index=False)"
   ]
  },
  {
   "cell_type": "code",
   "execution_count": 44,
   "metadata": {},
   "outputs": [],
   "source": [
    "duplicated_data = pd.read_csv('deal_room_intern_casestudy_dublicates.csv')"
   ]
  },
  {
   "cell_type": "code",
   "execution_count": 45,
   "metadata": {},
   "outputs": [
    {
     "data": {
      "text/html": [
       "<div>\n",
       "<style scoped>\n",
       "    .dataframe tbody tr th:only-of-type {\n",
       "        vertical-align: middle;\n",
       "    }\n",
       "\n",
       "    .dataframe tbody tr th {\n",
       "        vertical-align: top;\n",
       "    }\n",
       "\n",
       "    .dataframe thead th {\n",
       "        text-align: right;\n",
       "    }\n",
       "</style>\n",
       "<table border=\"1\" class=\"dataframe\">\n",
       "  <thead>\n",
       "    <tr style=\"text-align: right;\">\n",
       "      <th></th>\n",
       "      <th>id</th>\n",
       "      <th>name</th>\n",
       "      <th>tagline</th>\n",
       "      <th>type</th>\n",
       "      <th>address</th>\n",
       "    </tr>\n",
       "  </thead>\n",
       "  <tbody>\n",
       "    <tr>\n",
       "      <th>0</th>\n",
       "      <td>867000</td>\n",
       "      <td>Swarovski Group</td>\n",
       "      <td>Homepage - Swarovski Group</td>\n",
       "      <td>4</td>\n",
       "      <td>Switzerland, Männedorf, Alte Landstrasse, 411</td>\n",
       "    </tr>\n",
       "    <tr>\n",
       "      <th>1</th>\n",
       "      <td>867000</td>\n",
       "      <td>Swarovski Group</td>\n",
       "      <td>Homepage - Swarovski Group</td>\n",
       "      <td>4</td>\n",
       "      <td>Switzerland, Männedorf, Alte Landstrasse, 411</td>\n",
       "    </tr>\n",
       "  </tbody>\n",
       "</table>\n",
       "</div>"
      ],
      "text/plain": [
       "       id             name                     tagline  type  \\\n",
       "0  867000  Swarovski Group  Homepage - Swarovski Group     4   \n",
       "1  867000  Swarovski Group  Homepage - Swarovski Group     4   \n",
       "\n",
       "                                         address  \n",
       "0  Switzerland, Männedorf, Alte Landstrasse, 411  \n",
       "1  Switzerland, Männedorf, Alte Landstrasse, 411  "
      ]
     },
     "execution_count": 45,
     "metadata": {},
     "output_type": "execute_result"
    }
   ],
   "source": [
    "duplicated_data"
   ]
  },
  {
   "cell_type": "code",
   "execution_count": 46,
   "metadata": {},
   "outputs": [],
   "source": [
    "#### I did not deal  with NaN because I was going to set them to  Unknown or not specified."
   ]
  }
 ],
 "metadata": {
  "kernelspec": {
   "display_name": "Python 3",
   "language": "python",
   "name": "python3"
  },
  "language_info": {
   "codemirror_mode": {
    "name": "ipython",
    "version": 3
   },
   "file_extension": ".py",
   "mimetype": "text/x-python",
   "name": "python",
   "nbconvert_exporter": "python",
   "pygments_lexer": "ipython3",
   "version": "3.8.3"
  }
 },
 "nbformat": 4,
 "nbformat_minor": 4
}
